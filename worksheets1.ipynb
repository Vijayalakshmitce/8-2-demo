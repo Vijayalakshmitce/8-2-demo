{
  "nbformat": 4,
  "nbformat_minor": 0,
  "metadata": {
    "colab": {
      "provenance": [],
      "toc_visible": true,
      "authorship_tag": "ABX9TyPmHq6hjIwJI6qtXQwG1EGa",
      "include_colab_link": true
    },
    "kernelspec": {
      "name": "python3",
      "display_name": "Python 3"
    },
    "language_info": {
      "name": "python"
    }
  },
  "cells": [
    {
      "cell_type": "markdown",
      "metadata": {
        "id": "view-in-github",
        "colab_type": "text"
      },
      "source": [
        "<a href=\"https://colab.research.google.com/github/Vijayalakshmitce/8-2-demo/blob/master/worksheets1.ipynb\" target=\"_parent\"><img src=\"https://colab.research.google.com/assets/colab-badge.svg\" alt=\"Open In Colab\"/></a>"
      ]
    },
    {
      "cell_type": "code",
      "execution_count": null,
      "metadata": {
        "colab": {
          "base_uri": "https://localhost:8080/"
        },
        "id": "gKkxqfIlfmg5",
        "outputId": "d83359f0-5741-4f66-d447-2f1d92f3080d"
      },
      "outputs": [
        {
          "output_type": "stream",
          "name": "stdout",
          "text": [
            "Google colab notebook is successfully opened\n"
          ]
        }
      ],
      "source": [
        "print(\"Google colab notebook is successfully opened\");"
      ]
    },
    {
      "cell_type": "code",
      "source": [
        "num = 3\n",
        "num"
      ],
      "metadata": {
        "colab": {
          "base_uri": "https://localhost:8080/"
        },
        "id": "8rcIPkYQ3DbE",
        "outputId": "d6aa8b6a-8811-4844-f894-d5242bd6d197"
      },
      "execution_count": null,
      "outputs": [
        {
          "output_type": "execute_result",
          "data": {
            "text/plain": [
              "3"
            ]
          },
          "metadata": {},
          "execution_count": 12
        }
      ]
    },
    {
      "cell_type": "code",
      "source": [
        "x = y = z = 10"
      ],
      "metadata": {
        "id": "YV8mn0syGdZF"
      },
      "execution_count": null,
      "outputs": []
    },
    {
      "cell_type": "code",
      "source": [
        "x"
      ],
      "metadata": {
        "colab": {
          "base_uri": "https://localhost:8080/"
        },
        "id": "D4C_iIqOGgJs",
        "outputId": "6cdfa2c9-86f6-41f7-d88a-20befc26e401"
      },
      "execution_count": null,
      "outputs": [
        {
          "output_type": "execute_result",
          "data": {
            "text/plain": [
              "10"
            ]
          },
          "metadata": {},
          "execution_count": 14
        }
      ]
    },
    {
      "cell_type": "code",
      "source": [
        "y"
      ],
      "metadata": {
        "colab": {
          "base_uri": "https://localhost:8080/"
        },
        "id": "vkJ5jRROG5RK",
        "outputId": "dfee4446-08fe-4931-b6ff-a2ddc7bf9e62"
      },
      "execution_count": null,
      "outputs": [
        {
          "output_type": "execute_result",
          "data": {
            "text/plain": [
              "10"
            ]
          },
          "metadata": {},
          "execution_count": 15
        }
      ]
    },
    {
      "cell_type": "code",
      "source": [
        "z"
      ],
      "metadata": {
        "colab": {
          "base_uri": "https://localhost:8080/"
        },
        "id": "4GeQIT_HG65O",
        "outputId": "ae7d0bf8-5547-4e09-cf90-7deca1b08513"
      },
      "execution_count": null,
      "outputs": [
        {
          "output_type": "execute_result",
          "data": {
            "text/plain": [
              "10"
            ]
          },
          "metadata": {},
          "execution_count": 16
        }
      ]
    },
    {
      "cell_type": "code",
      "source": [
        "a = 'great learning'"
      ],
      "metadata": {
        "id": "40X5D9E4G9bt"
      },
      "execution_count": null,
      "outputs": []
    },
    {
      "cell_type": "code",
      "source": [
        "a"
      ],
      "metadata": {
        "colab": {
          "base_uri": "https://localhost:8080/",
          "height": 35
        },
        "id": "M6pPWzFcHBoC",
        "outputId": "ef8e67b1-f5db-42c9-80a0-f52ed0649e8c"
      },
      "execution_count": null,
      "outputs": [
        {
          "output_type": "execute_result",
          "data": {
            "text/plain": [
              "'great learning'"
            ],
            "application/vnd.google.colaboratory.intrinsic+json": {
              "type": "string"
            }
          },
          "metadata": {},
          "execution_count": 18
        }
      ]
    },
    {
      "cell_type": "code",
      "source": [
        "x = 3 + 4j\n",
        "type(x)"
      ],
      "metadata": {
        "colab": {
          "base_uri": "https://localhost:8080/"
        },
        "id": "4l9caIaFHWY2",
        "outputId": "b7779fe1-e3a7-4197-cf3f-a7d6addc7a02"
      },
      "execution_count": null,
      "outputs": [
        {
          "output_type": "execute_result",
          "data": {
            "text/plain": [
              "complex"
            ]
          },
          "metadata": {},
          "execution_count": 20
        }
      ]
    },
    {
      "cell_type": "code",
      "source": [
        "Str1 = \"GREAT\"\n",
        "Str2 = \"Learning\"\n",
        "Str1 + Str2\n"
      ],
      "metadata": {
        "colab": {
          "base_uri": "https://localhost:8080/",
          "height": 35
        },
        "id": "bjfz2wSqWQe7",
        "outputId": "fb3f72e4-130f-4626-c121-d4907bd24579"
      },
      "execution_count": null,
      "outputs": [
        {
          "output_type": "execute_result",
          "data": {
            "text/plain": [
              "'GREATLearning'"
            ],
            "application/vnd.google.colaboratory.intrinsic+json": {
              "type": "string"
            }
          },
          "metadata": {},
          "execution_count": 21
        }
      ]
    },
    {
      "cell_type": "code",
      "source": [
        "Str1[0]"
      ],
      "metadata": {
        "colab": {
          "base_uri": "https://localhost:8080/",
          "height": 35
        },
        "id": "yw5olxhiWcAb",
        "outputId": "57fc9625-da77-474f-d64c-3b20ddfcec0e"
      },
      "execution_count": null,
      "outputs": [
        {
          "output_type": "execute_result",
          "data": {
            "text/plain": [
              "'G'"
            ],
            "application/vnd.google.colaboratory.intrinsic+json": {
              "type": "string"
            }
          },
          "metadata": {},
          "execution_count": 22
        }
      ]
    },
    {
      "cell_type": "code",
      "source": [
        "Str2[-1]"
      ],
      "metadata": {
        "colab": {
          "base_uri": "https://localhost:8080/",
          "height": 35
        },
        "id": "QLJrcyFRWhX1",
        "outputId": "e4c33215-5b99-4d1f-b7f2-6de41db7aed3"
      },
      "execution_count": null,
      "outputs": [
        {
          "output_type": "execute_result",
          "data": {
            "text/plain": [
              "'g'"
            ],
            "application/vnd.google.colaboratory.intrinsic+json": {
              "type": "string"
            }
          },
          "metadata": {},
          "execution_count": 23
        }
      ]
    },
    {
      "cell_type": "code",
      "source": [
        "Str1[0:5]"
      ],
      "metadata": {
        "colab": {
          "base_uri": "https://localhost:8080/",
          "height": 35
        },
        "id": "rqsAGcnMWl4W",
        "outputId": "756600b4-8e70-4aae-c72c-9b901f591892"
      },
      "execution_count": null,
      "outputs": [
        {
          "output_type": "execute_result",
          "data": {
            "text/plain": [
              "'GREAT'"
            ],
            "application/vnd.google.colaboratory.intrinsic+json": {
              "type": "string"
            }
          },
          "metadata": {},
          "execution_count": 24
        }
      ]
    },
    {
      "cell_type": "code",
      "source": [
        "Str1[1:4]"
      ],
      "metadata": {
        "colab": {
          "base_uri": "https://localhost:8080/",
          "height": 35
        },
        "id": "l6LzKwftWqkG",
        "outputId": "64043d31-a75d-46b8-857d-08d6579d976e"
      },
      "execution_count": null,
      "outputs": [
        {
          "output_type": "execute_result",
          "data": {
            "text/plain": [
              "'REA'"
            ],
            "application/vnd.google.colaboratory.intrinsic+json": {
              "type": "string"
            }
          },
          "metadata": {},
          "execution_count": 25
        }
      ]
    },
    {
      "cell_type": "code",
      "source": [
        "var = True\n",
        "type(var)"
      ],
      "metadata": {
        "colab": {
          "base_uri": "https://localhost:8080/"
        },
        "id": "BznZdUw1D6lB",
        "outputId": "1b7110ad-b045-4a03-cea8-7e1cb1c0e6a1"
      },
      "execution_count": null,
      "outputs": [
        {
          "output_type": "execute_result",
          "data": {
            "text/plain": [
              "bool"
            ]
          },
          "metadata": {},
          "execution_count": 1
        }
      ]
    },
    {
      "cell_type": "code",
      "source": [
        "10 > 9"
      ],
      "metadata": {
        "colab": {
          "base_uri": "https://localhost:8080/"
        },
        "id": "ErViwt2QECzs",
        "outputId": "fe95404b-08e4-4189-9697-26d89b10f76a"
      },
      "execution_count": null,
      "outputs": [
        {
          "output_type": "execute_result",
          "data": {
            "text/plain": [
              "True"
            ]
          },
          "metadata": {},
          "execution_count": 2
        }
      ]
    },
    {
      "cell_type": "code",
      "source": [
        "float(11)"
      ],
      "metadata": {
        "colab": {
          "base_uri": "https://localhost:8080/"
        },
        "id": "-KJktZEVFYP_",
        "outputId": "02d58fac-9a74-4fed-f520-7d058fbfc299"
      },
      "execution_count": null,
      "outputs": [
        {
          "output_type": "execute_result",
          "data": {
            "text/plain": [
              "11.0"
            ]
          },
          "metadata": {},
          "execution_count": 5
        }
      ]
    },
    {
      "cell_type": "code",
      "source": [
        "float('11')"
      ],
      "metadata": {
        "colab": {
          "base_uri": "https://localhost:8080/"
        },
        "id": "5vE7_Q7UFc1s",
        "outputId": "8287fcd9-9059-46ab-80b6-c8e44ac66a32"
      },
      "execution_count": null,
      "outputs": [
        {
          "output_type": "execute_result",
          "data": {
            "text/plain": [
              "11.0"
            ]
          },
          "metadata": {},
          "execution_count": 6
        }
      ]
    },
    {
      "cell_type": "code",
      "source": [
        "int(111.8999)"
      ],
      "metadata": {
        "colab": {
          "base_uri": "https://localhost:8080/"
        },
        "id": "TsdexvvWFgRc",
        "outputId": "770f7982-53e0-4ee0-c625-1759ea03abed"
      },
      "execution_count": null,
      "outputs": [
        {
          "output_type": "execute_result",
          "data": {
            "text/plain": [
              "111"
            ]
          },
          "metadata": {},
          "execution_count": 7
        }
      ]
    },
    {
      "cell_type": "code",
      "source": [
        "x = 7\n",
        "x"
      ],
      "metadata": {
        "colab": {
          "base_uri": "https://localhost:8080/"
        },
        "id": "T7aGoZWDHM9H",
        "outputId": "c4c825d9-f6cc-4b90-f4d0-a6ab0b59b9ee"
      },
      "execution_count": null,
      "outputs": [
        {
          "output_type": "execute_result",
          "data": {
            "text/plain": [
              "7"
            ]
          },
          "metadata": {},
          "execution_count": 8
        }
      ]
    },
    {
      "cell_type": "code",
      "source": [
        "print(\"x =\", x)"
      ],
      "metadata": {
        "colab": {
          "base_uri": "https://localhost:8080/"
        },
        "id": "GQ_ryJbaHQx_",
        "outputId": "0cdf0a29-7e0b-4b50-e18d-95506d83449f"
      },
      "execution_count": null,
      "outputs": [
        {
          "output_type": "stream",
          "name": "stdout",
          "text": [
            "x = 7\n"
          ]
        }
      ]
    },
    {
      "cell_type": "code",
      "source": [
        "x = 7\n",
        "y = 9\n",
        "x\n",
        "y\n",
        "print(\"x =\", x,end='\\n\\n')\n",
        "print(\"y =\", y)\n",
        "print(\"x\")"
      ],
      "metadata": {
        "colab": {
          "base_uri": "https://localhost:8080/"
        },
        "id": "OsvWmc6HJMLX",
        "outputId": "954d53a8-5f1e-441d-c98c-1a62f7ff8282"
      },
      "execution_count": null,
      "outputs": [
        {
          "output_type": "stream",
          "name": "stdout",
          "text": [
            "x = 7\n",
            "\n",
            "y = 9\n",
            "x\n"
          ]
        }
      ]
    },
    {
      "cell_type": "code",
      "source": [
        "age = int(input(\"please enter the age: \"))\n",
        "print (age)\n",
        "type(age)"
      ],
      "metadata": {
        "colab": {
          "base_uri": "https://localhost:8080/"
        },
        "id": "FtXvxXKxNQrU",
        "outputId": "bbe21f0c-4cf8-4aab-9b17-5d3a69873e8b"
      },
      "execution_count": null,
      "outputs": [
        {
          "output_type": "stream",
          "name": "stdout",
          "text": [
            "please enter the age: 33\n",
            "33\n"
          ]
        },
        {
          "output_type": "execute_result",
          "data": {
            "text/plain": [
              "int"
            ]
          },
          "metadata": {},
          "execution_count": 14
        }
      ]
    },
    {
      "cell_type": "code",
      "source": [
        "name = input(\"Please enter the name: \")\n",
        "print(name)\n",
        "type(name)"
      ],
      "metadata": {
        "colab": {
          "base_uri": "https://localhost:8080/"
        },
        "id": "qwnmp1l_NfOh",
        "outputId": "3ccae011-04eb-4566-de3a-19fe038c0568"
      },
      "execution_count": null,
      "outputs": [
        {
          "output_type": "stream",
          "name": "stdout",
          "text": [
            "Please enter the name: nimi\n",
            "nimi\n"
          ]
        },
        {
          "output_type": "execute_result",
          "data": {
            "text/plain": [
              "str"
            ]
          },
          "metadata": {},
          "execution_count": 15
        }
      ]
    },
    {
      "cell_type": "code",
      "source": [
        "a = 12\n",
        "b = 2\n",
        "\n",
        "print (\"a + b\",a+b)\n",
        "print (\"a - b\",a-b)\n",
        "print (\"a * b\",a*b)\n",
        "print (\"a / b\",a/b)\n",
        "print (\"a % b\",a%b)\n",
        "print (\"a ** b\", a**b)\n",
        "print (\"a // b\", a//b)"
      ],
      "metadata": {
        "colab": {
          "base_uri": "https://localhost:8080/"
        },
        "id": "ZReY4GijPWNi",
        "outputId": "72ae5aff-a5f6-47dd-cb07-846755dd8e51"
      },
      "execution_count": null,
      "outputs": [
        {
          "output_type": "stream",
          "name": "stdout",
          "text": [
            "a + b 14\n",
            "a - b 10\n",
            "a * b 24\n",
            "a / b 6.0\n",
            "a % b 0\n",
            "a ** b 144\n",
            "a // b 6\n"
          ]
        }
      ]
    },
    {
      "cell_type": "code",
      "source": [
        "a = 10\n",
        "b = 20\n",
        "print (\"a > b is\", a > b)\n",
        "print (\"a < b is \",a < b)\n",
        "print (\"a == b is\", a==b)\n",
        "print (\"a != b is \", a!=b)\n",
        "print(\"a >= b is\", a>=b)\n",
        "print(\"a<=b is \", a<=b)"
      ],
      "metadata": {
        "colab": {
          "base_uri": "https://localhost:8080/"
        },
        "id": "IiephiyNSz-P",
        "outputId": "36f2b350-9fb2-420b-bde4-4cd8f5da31be"
      },
      "execution_count": null,
      "outputs": [
        {
          "output_type": "stream",
          "name": "stdout",
          "text": [
            "a > b is False\n",
            "a < b is  True\n",
            "a == b is False\n",
            "a != b is  True\n",
            "a >= b is False\n",
            "a<=b is  True\n"
          ]
        }
      ]
    },
    {
      "cell_type": "markdown",
      "source": [],
      "metadata": {
        "id": "iUY8VJHQSz6n"
      }
    },
    {
      "cell_type": "code",
      "source": [
        "27/2==13.5"
      ],
      "metadata": {
        "colab": {
          "base_uri": "https://localhost:8080/"
        },
        "id": "e0ohZ0TyUKCO",
        "outputId": "b264e19a-bcac-470e-db99-e4f9d60bf923"
      },
      "execution_count": null,
      "outputs": [
        {
          "output_type": "execute_result",
          "data": {
            "text/plain": [
              "True"
            ]
          },
          "metadata": {},
          "execution_count": 18
        }
      ]
    },
    {
      "cell_type": "code",
      "source": [
        "x = 5\n",
        "x +=5\n",
        "print(\"x +=5\",x)\n",
        "x -=2\n",
        "print(\"x -=2\",x)\n",
        "x *=5\n",
        "print(\"x *=5\",x)\n",
        "x /=5\n",
        "print(\"x /=5\",x)"
      ],
      "metadata": {
        "colab": {
          "base_uri": "https://localhost:8080/"
        },
        "id": "nPIhUvopPVZK",
        "outputId": "4c858171-434c-4682-e093-6331b89bcc4f"
      },
      "execution_count": null,
      "outputs": [
        {
          "output_type": "stream",
          "name": "stdout",
          "text": [
            "x +=5 10\n",
            "x -=2 8\n",
            "x *=5 40\n",
            "x /=5 8.0\n"
          ]
        }
      ]
    },
    {
      "cell_type": "code",
      "source": [
        "x = 11\n",
        "a = x>10 and x<20\n",
        "print(a)"
      ],
      "metadata": {
        "colab": {
          "base_uri": "https://localhost:8080/"
        },
        "id": "Xf_gCpj4YF1C",
        "outputId": "3b41d999-ea45-4250-b537-bac26d95d68b"
      },
      "execution_count": null,
      "outputs": [
        {
          "output_type": "stream",
          "name": "stdout",
          "text": [
            "True\n"
          ]
        }
      ]
    },
    {
      "cell_type": "code",
      "source": [
        "x = 11\n",
        "a = x > 10 and x == 12\n",
        "print(a)"
      ],
      "metadata": {
        "colab": {
          "base_uri": "https://localhost:8080/"
        },
        "id": "jwJLv8_SYQs3",
        "outputId": "5e2b5a3a-29fe-4e20-e6c2-13ba1cce6a41"
      },
      "execution_count": null,
      "outputs": [
        {
          "output_type": "stream",
          "name": "stdout",
          "text": [
            "False\n"
          ]
        }
      ]
    },
    {
      "cell_type": "code",
      "source": [
        "x = 11\n",
        "a = x > 10 or x == 12\n",
        "print (a)"
      ],
      "metadata": {
        "colab": {
          "base_uri": "https://localhost:8080/"
        },
        "id": "4okNeg9AYa85",
        "outputId": "b75c3c4c-4362-4391-ccfe-be50aaa9db3a"
      },
      "execution_count": null,
      "outputs": [
        {
          "output_type": "stream",
          "name": "stdout",
          "text": [
            "True\n"
          ]
        }
      ]
    },
    {
      "cell_type": "code",
      "source": [
        "x = 11\n",
        "a = x > 12 or x <10\n",
        "print(a)"
      ],
      "metadata": {
        "colab": {
          "base_uri": "https://localhost:8080/"
        },
        "id": "KasC7eBdYll_",
        "outputId": "376b992e-f0b7-491a-aeb5-cd483d106645"
      },
      "execution_count": null,
      "outputs": [
        {
          "output_type": "stream",
          "name": "stdout",
          "text": [
            "False\n"
          ]
        }
      ]
    },
    {
      "cell_type": "code",
      "source": [
        "3==2 and 1!=2"
      ],
      "metadata": {
        "colab": {
          "base_uri": "https://localhost:8080/"
        },
        "id": "_nhFRNtlZUoS",
        "outputId": "65a41847-8dd9-4e33-c995-dc905d4d2789"
      },
      "execution_count": null,
      "outputs": [
        {
          "output_type": "execute_result",
          "data": {
            "text/plain": [
              "False"
            ]
          },
          "metadata": {},
          "execution_count": 25
        }
      ]
    },
    {
      "cell_type": "code",
      "source": [
        "3%2 > 1 and 4/2 ==2"
      ],
      "metadata": {
        "colab": {
          "base_uri": "https://localhost:8080/"
        },
        "id": "GAXqDdeGZfI9",
        "outputId": "8d8429c6-a687-48e1-b86e-214110b08383"
      },
      "execution_count": null,
      "outputs": [
        {
          "output_type": "execute_result",
          "data": {
            "text/plain": [
              "False"
            ]
          },
          "metadata": {},
          "execution_count": 26
        }
      ]
    },
    {
      "cell_type": "markdown",
      "source": [],
      "metadata": {
        "id": "Z5B0e2GPYauG"
      }
    },
    {
      "cell_type": "code",
      "source": [
        "my_list = []\n",
        "my_list"
      ],
      "metadata": {
        "colab": {
          "base_uri": "https://localhost:8080/"
        },
        "id": "CPru4E8I4s1r",
        "outputId": "622493be-fa7c-4572-8253-70687b232285"
      },
      "execution_count": null,
      "outputs": [
        {
          "output_type": "execute_result",
          "data": {
            "text/plain": [
              "[]"
            ]
          },
          "metadata": {},
          "execution_count": 3
        }
      ]
    },
    {
      "cell_type": "code",
      "source": [
        "my_list = [[\"great\",\"learning\"],[123,765,7654]]\n",
        "my_list"
      ],
      "metadata": {
        "colab": {
          "base_uri": "https://localhost:8080/"
        },
        "id": "vqgGLnTH5JTf",
        "outputId": "c96ab00f-e735-4205-8cdb-085cf11a1f4c"
      },
      "execution_count": null,
      "outputs": [
        {
          "output_type": "execute_result",
          "data": {
            "text/plain": [
              "[['great', 'learning'], [123, 765, 7654]]"
            ]
          },
          "metadata": {},
          "execution_count": 5
        }
      ]
    },
    {
      "cell_type": "code",
      "source": [
        "list = ['data sciences', 'hello', 'html', 'css','history','climate','model']\n",
        "list[0]"
      ],
      "metadata": {
        "colab": {
          "base_uri": "https://localhost:8080/",
          "height": 35
        },
        "id": "4qXN4NAl6bZx",
        "outputId": "30396c33-3ee7-41fa-c1aa-421fdf7bec2b"
      },
      "execution_count": null,
      "outputs": [
        {
          "output_type": "execute_result",
          "data": {
            "text/plain": [
              "'data sciences'"
            ],
            "application/vnd.google.colaboratory.intrinsic+json": {
              "type": "string"
            }
          },
          "metadata": {},
          "execution_count": 14
        }
      ]
    },
    {
      "cell_type": "code",
      "source": [
        "list[1]"
      ],
      "metadata": {
        "colab": {
          "base_uri": "https://localhost:8080/",
          "height": 35
        },
        "id": "DrsVxKvs6pPf",
        "outputId": "bb8be307-9a7d-4306-fdb2-7cc33ab7c1a7"
      },
      "execution_count": null,
      "outputs": [
        {
          "output_type": "execute_result",
          "data": {
            "text/plain": [
              "'hello'"
            ],
            "application/vnd.google.colaboratory.intrinsic+json": {
              "type": "string"
            }
          },
          "metadata": {},
          "execution_count": 20
        }
      ]
    },
    {
      "cell_type": "code",
      "source": [
        "list[-1]"
      ],
      "metadata": {
        "colab": {
          "base_uri": "https://localhost:8080/",
          "height": 35
        },
        "id": "kZNzCY4b6rvo",
        "outputId": "7aa2285a-43bf-4b69-d408-788726c12e6c"
      },
      "execution_count": null,
      "outputs": [
        {
          "output_type": "execute_result",
          "data": {
            "text/plain": [
              "'model'"
            ],
            "application/vnd.google.colaboratory.intrinsic+json": {
              "type": "string"
            }
          },
          "metadata": {},
          "execution_count": 21
        }
      ]
    },
    {
      "cell_type": "code",
      "source": [
        "list[-2]"
      ],
      "metadata": {
        "colab": {
          "base_uri": "https://localhost:8080/",
          "height": 35
        },
        "id": "saZ5EnbN6uv1",
        "outputId": "9b1b617b-3d23-405a-8905-a84964e8e4cd"
      },
      "execution_count": null,
      "outputs": [
        {
          "output_type": "execute_result",
          "data": {
            "text/plain": [
              "'climate'"
            ],
            "application/vnd.google.colaboratory.intrinsic+json": {
              "type": "string"
            }
          },
          "metadata": {},
          "execution_count": 22
        }
      ]
    },
    {
      "cell_type": "code",
      "source": [
        "list[:]"
      ],
      "metadata": {
        "colab": {
          "base_uri": "https://localhost:8080/"
        },
        "id": "ofD5PnBkAp3m",
        "outputId": "b0f3b5e6-97b7-4c56-bf50-ad0bfb952b15"
      },
      "execution_count": null,
      "outputs": [
        {
          "output_type": "execute_result",
          "data": {
            "text/plain": [
              "['data sciences', 'hello', 'html', 'css', 'history', 'climate', 'model']"
            ]
          },
          "metadata": {},
          "execution_count": 23
        }
      ]
    },
    {
      "cell_type": "code",
      "source": [
        "list[:3]"
      ],
      "metadata": {
        "colab": {
          "base_uri": "https://localhost:8080/"
        },
        "id": "jCbLMMoWAuqe",
        "outputId": "e4274d88-d8c8-4ec2-bd77-df1e1d65fee4"
      },
      "execution_count": null,
      "outputs": [
        {
          "output_type": "execute_result",
          "data": {
            "text/plain": [
              "['data sciences', 'hello', 'html']"
            ]
          },
          "metadata": {},
          "execution_count": 24
        }
      ]
    },
    {
      "cell_type": "code",
      "source": [
        "list[2:]"
      ],
      "metadata": {
        "colab": {
          "base_uri": "https://localhost:8080/"
        },
        "id": "2Z2fNuDcA0xT",
        "outputId": "244fcdf2-d64d-4b4d-a522-cc2eb6117f97"
      },
      "execution_count": null,
      "outputs": [
        {
          "output_type": "execute_result",
          "data": {
            "text/plain": [
              "['html', 'css', 'history', 'climate', 'model']"
            ]
          },
          "metadata": {},
          "execution_count": 25
        }
      ]
    },
    {
      "cell_type": "code",
      "source": [
        "list[2:6:2]"
      ],
      "metadata": {
        "colab": {
          "base_uri": "https://localhost:8080/"
        },
        "id": "p48kZoJ_A45P",
        "outputId": "a57b0095-b295-4313-a8ee-e2a306da73cb"
      },
      "execution_count": null,
      "outputs": [
        {
          "output_type": "execute_result",
          "data": {
            "text/plain": [
              "['html', 'history']"
            ]
          },
          "metadata": {},
          "execution_count": 30
        }
      ]
    },
    {
      "cell_type": "code",
      "source": [
        "list[4] = \"MLMk products\"\n",
        "list"
      ],
      "metadata": {
        "colab": {
          "base_uri": "https://localhost:8080/"
        },
        "id": "P7Um8_3wCWNW",
        "outputId": "e32c0db1-3840-4a77-b63f-81a40038a2b5"
      },
      "execution_count": null,
      "outputs": [
        {
          "output_type": "execute_result",
          "data": {
            "text/plain": [
              "['data sciences', 'hello', 'html', 'css', 'MLMk products', 'climate', 'model']"
            ]
          },
          "metadata": {},
          "execution_count": 33
        }
      ]
    },
    {
      "cell_type": "code",
      "source": [
        "element = ['data','hello','model','tesla','house','car']\n",
        "element1 = ['Jewels']\n"
      ],
      "metadata": {
        "id": "bw4DsZgXS49V"
      },
      "execution_count": null,
      "outputs": []
    },
    {
      "cell_type": "code",
      "source": [
        "element.append(element1)\n",
        "element"
      ],
      "metadata": {
        "colab": {
          "base_uri": "https://localhost:8080/"
        },
        "id": "IG1DuYBGTP2r",
        "outputId": "0b278fcf-b451-44f2-f5e6-61f925201eb2"
      },
      "execution_count": null,
      "outputs": [
        {
          "output_type": "execute_result",
          "data": {
            "text/plain": [
              "['data', 'hello', 'model', 'tesla', 'house', 'car', ['Jewels'], ['Jewels']]"
            ]
          },
          "metadata": {},
          "execution_count": 41
        }
      ]
    },
    {
      "cell_type": "code",
      "source": [
        "element.insert(3,'KFC')\n",
        "element"
      ],
      "metadata": {
        "colab": {
          "base_uri": "https://localhost:8080/"
        },
        "id": "5uyxfnVsTaGY",
        "outputId": "1d3e9d21-6f72-4468-ebbb-c35d67febe76"
      },
      "execution_count": null,
      "outputs": [
        {
          "output_type": "execute_result",
          "data": {
            "text/plain": [
              "['data',\n",
              " 'hello',\n",
              " 'model',\n",
              " 'KFC',\n",
              " 'tesla',\n",
              " 'house',\n",
              " 'car',\n",
              " ['Jewels'],\n",
              " ['Jewels']]"
            ]
          },
          "metadata": {},
          "execution_count": 42
        }
      ]
    },
    {
      "cell_type": "code",
      "source": [
        "list1 = ['Apple','bread','milk']\n",
        "list2 = ['soap']\n",
        "list1.extend(list2)\n",
        "list1"
      ],
      "metadata": {
        "colab": {
          "base_uri": "https://localhost:8080/"
        },
        "id": "YX3DSzZAWjFv",
        "outputId": "adae62a1-537b-4d62-c752-0748443f270b"
      },
      "execution_count": null,
      "outputs": [
        {
          "output_type": "execute_result",
          "data": {
            "text/plain": [
              "['Apple', 'bread', 'milk', 'soap']"
            ]
          },
          "metadata": {},
          "execution_count": 45
        }
      ]
    },
    {
      "cell_type": "code",
      "source": [
        "listS = ['Hello','iphone','macdonald','KFC','Tulse']\n",
        "del listS[2]\n",
        "listS"
      ],
      "metadata": {
        "colab": {
          "base_uri": "https://localhost:8080/"
        },
        "id": "ChD4JWVVXbuj",
        "outputId": "39f50e45-1cab-4ce1-80fa-a8fcc20aaeda"
      },
      "execution_count": null,
      "outputs": [
        {
          "output_type": "execute_result",
          "data": {
            "text/plain": [
              "['Hello', 'iphone', 'KFC', 'Tulse']"
            ]
          },
          "metadata": {},
          "execution_count": 53
        }
      ]
    },
    {
      "cell_type": "code",
      "source": [
        "listS.remove('Tulse')\n",
        "listS"
      ],
      "metadata": {
        "colab": {
          "base_uri": "https://localhost:8080/"
        },
        "id": "4ImzPZXtXbfx",
        "outputId": "8cdf36a5-dc63-4f87-c0a6-8b17fddadab7"
      },
      "execution_count": null,
      "outputs": [
        {
          "output_type": "execute_result",
          "data": {
            "text/plain": [
              "['Hello', 'iphone']"
            ]
          },
          "metadata": {},
          "execution_count": 56
        }
      ]
    },
    {
      "cell_type": "code",
      "source": [
        "list3 = ['A','B','C','D','E','F']\n",
        "list3.pop()"
      ],
      "metadata": {
        "colab": {
          "base_uri": "https://localhost:8080/",
          "height": 35
        },
        "id": "VswcqxnWYoo_",
        "outputId": "f37a44b5-b1b6-4a4c-942c-651225afbb24"
      },
      "execution_count": null,
      "outputs": [
        {
          "output_type": "execute_result",
          "data": {
            "text/plain": [
              "'F'"
            ],
            "application/vnd.google.colaboratory.intrinsic+json": {
              "type": "string"
            }
          },
          "metadata": {},
          "execution_count": 57
        }
      ]
    },
    {
      "cell_type": "markdown",
      "source": [],
      "metadata": {
        "id": "6o9aQAOTXaWX"
      }
    },
    {
      "cell_type": "code",
      "source": [
        "list3.reverse()\n",
        "list3"
      ],
      "metadata": {
        "colab": {
          "base_uri": "https://localhost:8080/"
        },
        "id": "WrBqDO7zY2OA",
        "outputId": "33f7a654-1e47-4418-dac9-985a031ae59e"
      },
      "execution_count": null,
      "outputs": [
        {
          "output_type": "execute_result",
          "data": {
            "text/plain": [
              "['E', 'D', 'C', 'B', 'A']"
            ]
          },
          "metadata": {},
          "execution_count": 60
        }
      ]
    },
    {
      "cell_type": "code",
      "source": [
        "sample1 = ['AGS','POP','Delete']\n",
        "sample2 = ['KFC','McD','pepsi']\n",
        "sample1+sample2"
      ],
      "metadata": {
        "colab": {
          "base_uri": "https://localhost:8080/"
        },
        "id": "HCh_4hC5ZhGJ",
        "outputId": "e3e9f9b7-5e48-4967-932c-ded41cba2a09"
      },
      "execution_count": null,
      "outputs": [
        {
          "output_type": "execute_result",
          "data": {
            "text/plain": [
              "['AGS', 'POP', 'Delete', 'KFC', 'McD', 'pepsi']"
            ]
          },
          "metadata": {},
          "execution_count": 61
        }
      ]
    },
    {
      "cell_type": "code",
      "source": [
        "sample1 * 2"
      ],
      "metadata": {
        "colab": {
          "base_uri": "https://localhost:8080/"
        },
        "id": "P4kHP4l0ZzpA",
        "outputId": "0db9f8fe-8bcd-4ea0-f7f3-94b6fba253cd"
      },
      "execution_count": null,
      "outputs": [
        {
          "output_type": "execute_result",
          "data": {
            "text/plain": [
              "['AGS', 'POP', 'Delete', 'AGS', 'POP', 'Delete']"
            ]
          },
          "metadata": {},
          "execution_count": 62
        }
      ]
    },
    {
      "cell_type": "code",
      "source": [],
      "metadata": {
        "id": "pQfe7TK-Tr8I"
      },
      "execution_count": null,
      "outputs": []
    },
    {
      "cell_type": "code",
      "source": [
        "my_string = 'python'\n",
        "my_list = ['Java','C++','long','python']\n",
        "\n",
        "if my_string in my_list:\n",
        "   print(my_string+\" tutorial\")"
      ],
      "metadata": {
        "colab": {
          "base_uri": "https://localhost:8080/"
        },
        "id": "t_RSwaFGRt-b",
        "outputId": "94852443-c9f6-4610-ade1-858ab4d8b8d5"
      },
      "execution_count": 11,
      "outputs": [
        {
          "output_type": "stream",
          "name": "stdout",
          "text": [
            "python tutorial\n"
          ]
        }
      ]
    },
    {
      "cell_type": "code",
      "source": [
        "language = ['java','C++','Long','C','python']\n",
        "\n",
        "if 'python' in language:\n",
        "    print(\"python is in list\")\n",
        ""
      ],
      "metadata": {
        "colab": {
          "base_uri": "https://localhost:8080/"
        },
        "id": "Lvnk0PHsTybb",
        "outputId": "1efa51d8-f643-4727-c385-eb11e7130076"
      },
      "execution_count": 12,
      "outputs": [
        {
          "output_type": "stream",
          "name": "stdout",
          "text": [
            "python is in list\n"
          ]
        }
      ]
    },
    {
      "cell_type": "code",
      "source": [
        "from types import EllipsisType\n",
        "x = 200\n",
        "print(x)\n",
        "\n",
        "if not x == 500:\n",
        "   print(\"X is not equal to 500\");\n",
        "else:\n",
        "   print(\"x is equal to 500\");\n"
      ],
      "metadata": {
        "colab": {
          "base_uri": "https://localhost:8080/"
        },
        "id": "CE89idCQUsmR",
        "outputId": "226eb7c2-d754-4dee-eb86-97d30b048196"
      },
      "execution_count": 15,
      "outputs": [
        {
          "output_type": "stream",
          "name": "stdout",
          "text": [
            "200\n",
            "X is not equal to 500\n"
          ]
        }
      ]
    },
    {
      "cell_type": "code",
      "source": [
        "string1 = str(input(\"Enter the username:\"))\n",
        "string2 = str(input(\"Enter the password:\"))\n",
        "if (string1 == 'Viji' and string2 == 'Viji123'):\n",
        "    print(\"Logged in successfully\")\n",
        "else:\n",
        "    print(\"Please try login correct username and password\")"
      ],
      "metadata": {
        "colab": {
          "base_uri": "https://localhost:8080/"
        },
        "id": "euNWtPaJVgX-",
        "outputId": "10526470-1c70-421e-e590-858f80cff81a"
      },
      "execution_count": 17,
      "outputs": [
        {
          "output_type": "stream",
          "name": "stdout",
          "text": [
            "Enter the username:Viji\n",
            "Enter the password:Viji123\n",
            "Logged in successfully\n"
          ]
        }
      ]
    },
    {
      "cell_type": "code",
      "source": [
        "x = 100\n",
        "if (x==0):\n",
        "  print (\"number is zero\")\n",
        "elif (x>5):\n",
        "  print('X is greater than 5')\n",
        "else:\n",
        "  print('X is smaller than 5')"
      ],
      "metadata": {
        "colab": {
          "base_uri": "https://localhost:8080/"
        },
        "id": "AbucwR0hXZ9S",
        "outputId": "4eac6770-a16b-416a-da30-4d1858efe5e5"
      },
      "execution_count": 19,
      "outputs": [
        {
          "output_type": "stream",
          "name": "stdout",
          "text": [
            "X is greater than 5\n"
          ]
        }
      ]
    },
    {
      "cell_type": "code",
      "source": [
        "num = float(input(\"enter the number:\"))\n",
        "\n",
        "if (num >= 0):\n",
        "  if(num == 0):\n",
        "    print(\"number is zero\")\n",
        "  else:\n",
        "      print(\"number is positive\")\n",
        "else:\n",
        "  print('number is negative')\n",
        ""
      ],
      "metadata": {
        "colab": {
          "base_uri": "https://localhost:8080/"
        },
        "id": "71IzsGDHYfCo",
        "outputId": "8e05da5e-9964-40b2-b313-222bf1b66897"
      },
      "execution_count": 22,
      "outputs": [
        {
          "output_type": "stream",
          "name": "stdout",
          "text": [
            "enter the number:-8.999\n",
            "number is negative\n"
          ]
        }
      ]
    },
    {
      "cell_type": "code",
      "source": [
        "string = 'Python'\n",
        "print('Learning '+string+' is fun!')"
      ],
      "metadata": {
        "colab": {
          "base_uri": "https://localhost:8080/"
        },
        "id": "tlfFxFSlaNsU",
        "outputId": "fd157cca-c2f0-4d19-b318-5e8938a50524"
      },
      "execution_count": 23,
      "outputs": [
        {
          "output_type": "stream",
          "name": "stdout",
          "text": [
            "Learning Python is fun!\n"
          ]
        }
      ]
    },
    {
      "cell_type": "code",
      "source": [
        "import math\n",
        "radius = float(input())\n",
        "\n",
        "# Write your code below\n",
        "\n",
        "area = math.pi * radius ** 2\n",
        "print(area)"
      ],
      "metadata": {
        "colab": {
          "base_uri": "https://localhost:8080/"
        },
        "id": "Yr7suj4omd2g",
        "outputId": "6dba63d5-3d79-46c3-9345-6c3ba53b8a19"
      },
      "execution_count": 24,
      "outputs": [
        {
          "output_type": "stream",
          "name": "stdout",
          "text": [
            "2.34\n",
            "17.20210473399627\n"
          ]
        }
      ]
    },
    {
      "cell_type": "code",
      "source": [
        "import math\n",
        "\n",
        "radius = float(input())\n",
        "\n",
        "\n",
        "# Write your code below\n",
        "\n",
        "area = math.pi * radius ** 2\n",
        "truncated_area = int(area * 100) / 100\n",
        "print(f\"{truncated_area:.2f}\")"
      ],
      "metadata": {
        "colab": {
          "base_uri": "https://localhost:8080/"
        },
        "id": "yKvHXcuLqQsx",
        "outputId": "5df241ab-0a2a-4c52-ee1e-f90056fa47d6"
      },
      "execution_count": 28,
      "outputs": [
        {
          "output_type": "stream",
          "name": "stdout",
          "text": [
            "5\n",
            "78.53\n"
          ]
        }
      ]
    },
    {
      "cell_type": "code",
      "source": [
        "s = input()\n",
        "print(len(s))"
      ],
      "metadata": {
        "colab": {
          "base_uri": "https://localhost:8080/"
        },
        "id": "5EYZXVQ4tKLY",
        "outputId": "24b8f3a3-b9f3-47ac-c688-87b9995540ca"
      },
      "execution_count": 29,
      "outputs": [
        {
          "output_type": "stream",
          "name": "stdout",
          "text": [
            "hello\n",
            "5\n"
          ]
        }
      ]
    }
  ]
}